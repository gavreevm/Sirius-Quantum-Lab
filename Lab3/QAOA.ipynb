{
  "cells": [
    {
      "cell_type": "code",
      "source": [
        "!pip install qiskit\n",
        "!pip install pylatexenc"
      ],
      "metadata": {
        "colab": {
          "base_uri": "https://localhost:8080/"
        },
        "id": "gASH2AOsNuE6",
        "outputId": "92ad2edd-69be-4c3d-9835-f875a0619b0b"
      },
      "execution_count": 1,
      "outputs": [
        {
          "output_type": "stream",
          "name": "stdout",
          "text": [
            "Looking in indexes: https://pypi.org/simple, https://us-python.pkg.dev/colab-wheels/public/simple/\n",
            "Requirement already satisfied: qiskit in /usr/local/lib/python3.7/dist-packages (0.37.1)\n",
            "Requirement already satisfied: qiskit-aer==0.10.4 in /usr/local/lib/python3.7/dist-packages (from qiskit) (0.10.4)\n",
            "Requirement already satisfied: qiskit-ibmq-provider==0.19.2 in /usr/local/lib/python3.7/dist-packages (from qiskit) (0.19.2)\n",
            "Requirement already satisfied: qiskit-terra==0.21.1 in /usr/local/lib/python3.7/dist-packages (from qiskit) (0.21.1)\n",
            "Requirement already satisfied: scipy>=1.0 in /usr/local/lib/python3.7/dist-packages (from qiskit-aer==0.10.4->qiskit) (1.7.3)\n",
            "Requirement already satisfied: numpy>=1.16.3 in /usr/local/lib/python3.7/dist-packages (from qiskit-aer==0.10.4->qiskit) (1.21.6)\n",
            "Requirement already satisfied: requests-ntlm>=1.1.0 in /usr/local/lib/python3.7/dist-packages (from qiskit-ibmq-provider==0.19.2->qiskit) (1.1.0)\n",
            "Requirement already satisfied: websocket-client>=1.0.1 in /usr/local/lib/python3.7/dist-packages (from qiskit-ibmq-provider==0.19.2->qiskit) (1.3.3)\n",
            "Requirement already satisfied: requests>=2.19 in /usr/local/lib/python3.7/dist-packages (from qiskit-ibmq-provider==0.19.2->qiskit) (2.23.0)\n",
            "Requirement already satisfied: urllib3>=1.21.1 in /usr/local/lib/python3.7/dist-packages (from qiskit-ibmq-provider==0.19.2->qiskit) (1.24.3)\n",
            "Requirement already satisfied: python-dateutil>=2.8.0 in /usr/local/lib/python3.7/dist-packages (from qiskit-ibmq-provider==0.19.2->qiskit) (2.8.2)\n",
            "Requirement already satisfied: websockets>=10.0 in /usr/local/lib/python3.7/dist-packages (from qiskit-ibmq-provider==0.19.2->qiskit) (10.3)\n",
            "Requirement already satisfied: psutil>=5 in /usr/local/lib/python3.7/dist-packages (from qiskit-terra==0.21.1->qiskit) (5.4.8)\n",
            "Requirement already satisfied: sympy>=1.3 in /usr/local/lib/python3.7/dist-packages (from qiskit-terra==0.21.1->qiskit) (1.7.1)\n",
            "Requirement already satisfied: stevedore>=3.0.0 in /usr/local/lib/python3.7/dist-packages (from qiskit-terra==0.21.1->qiskit) (3.5.0)\n",
            "Requirement already satisfied: tweedledum<2.0,>=1.1 in /usr/local/lib/python3.7/dist-packages (from qiskit-terra==0.21.1->qiskit) (1.1.1)\n",
            "Requirement already satisfied: ply>=3.10 in /usr/local/lib/python3.7/dist-packages (from qiskit-terra==0.21.1->qiskit) (3.11)\n",
            "Requirement already satisfied: symengine>=0.9 in /usr/local/lib/python3.7/dist-packages (from qiskit-terra==0.21.1->qiskit) (0.9.2)\n",
            "Requirement already satisfied: retworkx>=0.11.0 in /usr/local/lib/python3.7/dist-packages (from qiskit-terra==0.21.1->qiskit) (0.11.0)\n",
            "Requirement already satisfied: dill>=0.3 in /usr/local/lib/python3.7/dist-packages (from qiskit-terra==0.21.1->qiskit) (0.3.5.1)\n",
            "Requirement already satisfied: shared-memory38 in /usr/local/lib/python3.7/dist-packages (from qiskit-terra==0.21.1->qiskit) (0.1.2)\n",
            "Requirement already satisfied: typing-extensions in /usr/local/lib/python3.7/dist-packages (from qiskit-terra==0.21.1->qiskit) (4.1.1)\n",
            "Requirement already satisfied: six>=1.5 in /usr/local/lib/python3.7/dist-packages (from python-dateutil>=2.8.0->qiskit-ibmq-provider==0.19.2->qiskit) (1.15.0)\n",
            "Requirement already satisfied: idna<3,>=2.5 in /usr/local/lib/python3.7/dist-packages (from requests>=2.19->qiskit-ibmq-provider==0.19.2->qiskit) (2.10)\n",
            "Requirement already satisfied: certifi>=2017.4.17 in /usr/local/lib/python3.7/dist-packages (from requests>=2.19->qiskit-ibmq-provider==0.19.2->qiskit) (2022.6.15)\n",
            "Requirement already satisfied: chardet<4,>=3.0.2 in /usr/local/lib/python3.7/dist-packages (from requests>=2.19->qiskit-ibmq-provider==0.19.2->qiskit) (3.0.4)\n",
            "Requirement already satisfied: ntlm-auth>=1.0.2 in /usr/local/lib/python3.7/dist-packages (from requests-ntlm>=1.1.0->qiskit-ibmq-provider==0.19.2->qiskit) (1.5.0)\n",
            "Requirement already satisfied: cryptography>=1.3 in /usr/local/lib/python3.7/dist-packages (from requests-ntlm>=1.1.0->qiskit-ibmq-provider==0.19.2->qiskit) (37.0.4)\n",
            "Requirement already satisfied: cffi>=1.12 in /usr/local/lib/python3.7/dist-packages (from cryptography>=1.3->requests-ntlm>=1.1.0->qiskit-ibmq-provider==0.19.2->qiskit) (1.15.1)\n",
            "Requirement already satisfied: pycparser in /usr/local/lib/python3.7/dist-packages (from cffi>=1.12->cryptography>=1.3->requests-ntlm>=1.1.0->qiskit-ibmq-provider==0.19.2->qiskit) (2.21)\n",
            "Requirement already satisfied: importlib-metadata>=1.7.0 in /usr/local/lib/python3.7/dist-packages (from stevedore>=3.0.0->qiskit-terra==0.21.1->qiskit) (4.12.0)\n",
            "Requirement already satisfied: pbr!=2.1.0,>=2.0.0 in /usr/local/lib/python3.7/dist-packages (from stevedore>=3.0.0->qiskit-terra==0.21.1->qiskit) (5.10.0)\n",
            "Requirement already satisfied: zipp>=0.5 in /usr/local/lib/python3.7/dist-packages (from importlib-metadata>=1.7.0->stevedore>=3.0.0->qiskit-terra==0.21.1->qiskit) (3.8.1)\n",
            "Requirement already satisfied: mpmath>=0.19 in /usr/local/lib/python3.7/dist-packages (from sympy>=1.3->qiskit-terra==0.21.1->qiskit) (1.2.1)\n",
            "Looking in indexes: https://pypi.org/simple, https://us-python.pkg.dev/colab-wheels/public/simple/\n",
            "Requirement already satisfied: pylatexenc in /usr/local/lib/python3.7/dist-packages (2.10)\n"
          ]
        }
      ]
    },
    {
      "cell_type": "markdown",
      "metadata": {
        "tags": [
          "remove_cell"
        ],
        "id": "lwvzoB9hNn20"
      },
      "source": [
        "# Solving combinatorial optimization problems using QAOA"
      ]
    },
    {
      "cell_type": "markdown",
      "metadata": {
        "id": "hbw2a7GtNn21"
      },
      "source": [
        "In this tutorial, we introduce combinatorial optimization problems, explain approximate optimization algorithms, explain how the Quantum Approximate Optimization Algorithm (QAOA) works and present the implementation of an example that can be run on a simulator or on a real quantum system."
      ]
    },
    {
      "cell_type": "code",
      "execution_count": 2,
      "metadata": {
        "id": "AxV8zRQaNn23"
      },
      "outputs": [],
      "source": [
        "import networkx as nx\n",
        "import matplotlib.pyplot as plt"
      ]
    },
    {
      "cell_type": "markdown",
      "metadata": {
        "id": "TQ81AJlBNn24"
      },
      "source": [
        "## Задача комбинаторной оптимизации\n",
        "\n",
        "Задачи комбинаторной оптимизации включают поиск оптимального объекта из конечного набора объектов. Мы сосредоточимся на проблемах, связанных с\n",
        "поиск «оптимальных» битовых строк, состоящих из 0 и 1 среди конечного набора битовых строк. Одной из таких задач, соответствующих графу, является задача Max-Cut.\n",
        "\n",
        "### Проблема Max-Cut\n",
        "Задача Max-Cut состоит в том, чтобы разбить узлы графа на два набора так, чтобы количество ребер между наборами было максимальным. Пример ниже\n",
        "имеет граф с четырьмя узлами, и показаны некоторые способы его разделения на два набора, «красный» и «синий»."
      ]
    },
    {
      "cell_type": "code",
      "execution_count": 3,
      "metadata": {
        "colab": {
          "base_uri": "https://localhost:8080/",
          "height": 318
        },
        "id": "X8UhGQ2hNn27",
        "outputId": "4a8dc4ae-bcf7-40cc-ce43-5462be73b168"
      },
      "outputs": [
        {
          "output_type": "display_data",
          "data": {
            "text/plain": [
              "<Figure size 432x288 with 1 Axes>"
            ],
            "image/png": "[encoded data removed]"
          },
          "metadata": {}
        }
      ],
      "source": [
        "import networkx as nx\n",
        "\n",
        "G = nx.Graph()\n",
        "G.add_nodes_from([0, 1, 2, 3])\n",
        "G.add_edges_from([(0, 1), (1, 2), (2, 3), (3, 0)])\n",
        "nx.draw(G, with_labels=True, alpha=0.8, node_size=500)"
      ]
    },
    {
      "cell_type": "markdown",
      "metadata": {
        "id": "dR9Lzh8TNn28"
      },
      "source": [
        "### The Mixing Unitary"
      ]
    },
    {
      "cell_type": "code",
      "execution_count": 4,
      "metadata": {
        "colab": {
          "base_uri": "https://localhost:8080/",
          "height": 230
        },
        "id": "U__VfHxnNn29",
        "outputId": "d80ffb7c-3f59-4e0f-9659-bd8da2c19182"
      },
      "outputs": [
        {
          "output_type": "execute_result",
          "data": {
            "text/plain": [
              "<Figure size 146.797x264.88 with 1 Axes>"
            ],
            "image/png": "[encoded data removed]"
          },
          "metadata": {},
          "execution_count": 4
        }
      ],
      "source": [
        "from qiskit import QuantumCircuit, ClassicalRegister, QuantumRegister\n",
        "from qiskit import Aer, execute\n",
        "from qiskit.circuit import Parameter\n",
        "\n",
        "# Adjacency is essentially a matrix which tells you which nodes areconnected. \n",
        "# This matrix is given as a sparse matrix, so we need to convert it to a dense matrix\n",
        "adjacency = nx.adjacency_matrix(G).todense()\n",
        "nqubits = 4\n",
        "\n",
        "beta = Parameter(\"$\\\\beta$\")\n",
        "qc_mix = QuantumCircuit(nqubits)\n",
        "for i in range(0, nqubits):\n",
        "    qc_mix.rx(2 * beta, i)\n",
        "    \n",
        "qc_mix.draw('mpl')"
      ]
    },
    {
      "cell_type": "markdown",
      "metadata": {
        "id": "eA68jKDgNn2-"
      },
      "source": [
        "### The Problem Unitary"
      ]
    },
    {
      "cell_type": "code",
      "execution_count": 5,
      "metadata": {
        "colab": {
          "base_uri": "https://localhost:8080/",
          "height": 230
        },
        "id": "GxhMMIvvNn2-",
        "outputId": "f1a416b0-510e-4049-8b00-827e47451b19"
      },
      "outputs": [
        {
          "output_type": "execute_result",
          "data": {
            "text/plain": [
              "<Figure size 1049.8x264.88 with 1 Axes>"
            ],
            "image/png": "[encoded data removed]"
          },
          "metadata": {},
          "execution_count": 5
        }
      ],
      "source": [
        "gamma = Parameter(\"$\\\\gamma$\")\n",
        "qc_p = QuantumCircuit(nqubits)\n",
        "for pair in list(G.edges()):  # pairs of nodes\n",
        "    qc_p.rzz(2 * gamma, pair[0], pair[1])\n",
        "    qc_p.barrier()\n",
        "    \n",
        "qc_p.decompose().draw('mpl')"
      ]
    },
    {
      "cell_type": "markdown",
      "metadata": {
        "id": "o4yCJMhDNn2_"
      },
      "source": [
        "### Начальное состояние\n",
        "\n",
        "Исходное состояние, используемое во время QAOA, обычно представляет собой равную суперпозицию всех базовых состояний, т.е.\n",
        "\n",
        "$$\\lvert \\psi_0 \\rangle = \\bigg(\\frac{1}{\\sqrt{2}}\\big(\\lvert 0 \\rangle + \\lvert 1 \\rangle\\big)\\bigg)^{\\otimes n} $$\n",
        "\n",
        "Такое состояние, когда количество кубитов равно 4 ($n=4$), может быть подготовлено путем применения вентилей Адамара, начиная с полностью нулевого состояния, как показано на рис."
      ]
    },
    {
      "cell_type": "code",
      "execution_count": 7,
      "metadata": {
        "colab": {
          "base_uri": "https://localhost:8080/",
          "height": 230
        },
        "id": "rdmcuqkjNn2_",
        "outputId": "15db4a68-906a-49c0-a7c9-a1e1b11594e2"
      },
      "outputs": [
        {
          "output_type": "execute_result",
          "data": {
            "text/plain": [
              "<Figure size 146.797x264.88 with 1 Axes>"
            ],
            "image/png": "[encoded data removed]"
          },
          "metadata": {},
          "execution_count": 7
        }
      ],
      "source": [
        "qc_0 = QuantumCircuit(nqubits)\n",
        "for i in range(0, nqubits):\n",
        "    qc_0.h(i)\n",
        "    \n",
        "qc_0.draw('mpl')"
      ]
    },
    {
      "cell_type": "markdown",
      "metadata": {
        "id": "UTaEWIUYNn3A"
      },
      "source": [
        "### Схема QAOA\n",
        "\n",
        "До сих пор мы видели, что подготовка квантового состояния во время QAOA состоит из трех элементов.\n",
        "- Подготовка начального состояния\n",
        "- Применение унитарного $U(H_P) = e^{-i \\gamma H_P}$, соответствующего гамильтониану задачи\n",
        "- Применение смешивающего унитарного оператора $U(H_B) = e^{-i \\beta H_B}$\n",
        "\n",
        "Давайте посмотрим, как это выглядит для примера задачи:"
      ]
    },
    {
      "cell_type": "code",
      "execution_count": 9,
      "metadata": {
        "colab": {
          "base_uri": "https://localhost:8080/",
          "height": 230
        },
        "id": "Ts88GXKVNn3A",
        "outputId": "d331c467-23f1-4f3f-b40b-5f2ebe9556ab"
      },
      "outputs": [
        {
          "output_type": "execute_result",
          "data": {
            "text/plain": [
              "<Figure size 1170.2x264.88 with 1 Axes>"
            ],
            "image/png": "[encoded data removed]"
          },
          "metadata": {},
          "execution_count": 9
        }
      ],
      "source": [
        "qc_qaoa = QuantumCircuit(nqubits)\n",
        "\n",
        "qc_qaoa.append(qc_0, [i for i in range(0, nqubits)])\n",
        "qc_qaoa.append(qc_p, [i for i in range(0, nqubits)])\n",
        "qc_qaoa.append(qc_mix, [i for i in range(0, nqubits)])\n",
        "\n",
        "qc_qaoa.decompose().decompose().draw('mpl')"
      ]
    },
    {
      "cell_type": "code",
      "execution_count": 10,
      "metadata": {
        "id": "gT1Uc3H0Nn3C"
      },
      "outputs": [],
      "source": [
        "def maxcut_obj(x, G):\n",
        "    \"\"\"\n",
        "    Given a bitstring as a solution, this function returns\n",
        "    the number of edges shared between the two partitions\n",
        "    of the graph.\n",
        "    \n",
        "    Args:\n",
        "        x: str\n",
        "           solution bitstring\n",
        "           \n",
        "        G: networkx graph\n",
        "        \n",
        "    Returns:\n",
        "        obj: float\n",
        "             Objective\n",
        "    \"\"\"\n",
        "    obj = 0\n",
        "    for i, j in G.edges():\n",
        "        if x[i] != x[j]:\n",
        "            obj -= 1\n",
        "            \n",
        "    return obj\n",
        "\n",
        "\n",
        "def compute_expectation(counts, G):\n",
        "    \n",
        "    \"\"\"\n",
        "    Computes expectation value based on measurement results\n",
        "    \n",
        "    Args:\n",
        "        counts: dict\n",
        "                key as bitstring, val as count\n",
        "           \n",
        "        G: networkx graph\n",
        "        \n",
        "    Returns:\n",
        "        avg: float\n",
        "             expectation value\n",
        "    \"\"\"\n",
        "    \n",
        "    avg = 0\n",
        "    sum_count = 0\n",
        "    for bitstring, count in counts.items():\n",
        "        \n",
        "        obj = maxcut_obj(bitstring, G)\n",
        "        avg += obj * count\n",
        "        sum_count += count\n",
        "        \n",
        "    return avg/sum_count\n",
        "\n",
        "\n",
        "# We will also bring the different circuit components that\n",
        "# build the qaoa circuit under a single function\n",
        "def create_qaoa_circ(G, theta):\n",
        "    \n",
        "    \"\"\"\n",
        "    Creates a parametrized qaoa circuit\n",
        "    \n",
        "    Args:  \n",
        "        G: networkx graph\n",
        "        theta: list\n",
        "               unitary parameters\n",
        "                     \n",
        "    Returns:\n",
        "        qc: qiskit circuit\n",
        "    \"\"\"\n",
        "    \n",
        "    nqubits = len(G.nodes())\n",
        "    p = len(theta)//2  # number of alternating unitaries\n",
        "    qc = QuantumCircuit(nqubits)\n",
        "    \n",
        "    beta = theta[:p]\n",
        "    gamma = theta[p:]\n",
        "    \n",
        "    # initial_state\n",
        "    for i in range(0, nqubits):\n",
        "        qc.h(i)\n",
        "    \n",
        "    for irep in range(0, p):\n",
        "        \n",
        "        # problem unitary\n",
        "        for pair in list(G.edges()):\n",
        "            qc.rzz(2 * gamma[irep], pair[0], pair[1])\n",
        "\n",
        "        # mixer unitary\n",
        "        for i in range(0, nqubits):\n",
        "            qc.rx(2 * beta[irep], i)\n",
        "            \n",
        "    qc.measure_all()\n",
        "        \n",
        "    return qc\n",
        "\n",
        "# Finally we write a function that executes the circuit on the chosen backend\n",
        "def get_expectation(G, p, shots=512):\n",
        "    \n",
        "    \"\"\"\n",
        "    Runs parametrized circuit\n",
        "    \n",
        "    Args:\n",
        "        G: networkx graph\n",
        "        p: int,\n",
        "           Number of repetitions of unitaries\n",
        "    \"\"\"\n",
        "    \n",
        "    backend = Aer.get_backend('qasm_simulator')\n",
        "    backend.shots = shots\n",
        "    \n",
        "    def execute_circ(theta):\n",
        "        \n",
        "        qc = create_qaoa_circ(G, theta)\n",
        "        counts = backend.run(qc, seed_simulator=10, \n",
        "                             nshots=512).result().get_counts()\n",
        "        \n",
        "        return compute_expectation(counts, G)\n",
        "    \n",
        "    return execute_circ"
      ]
    },
    {
      "cell_type": "code",
      "execution_count": 11,
      "metadata": {
        "colab": {
          "base_uri": "https://localhost:8080/"
        },
        "id": "H779NdKBNn3D",
        "outputId": "7714dc1d-5ae4-4062-de66-fb3df6b83143"
      },
      "outputs": [
        {
          "output_type": "execute_result",
          "data": {
            "text/plain": [
              "     fun: -2.994140625\n",
              "   maxcv: 0.0\n",
              " message: 'Optimization terminated successfully.'\n",
              "    nfev: 30\n",
              "  status: 1\n",
              " success: True\n",
              "       x: array([1.9793337 , 1.16663483])"
            ]
          },
          "metadata": {},
          "execution_count": 11
        }
      ],
      "source": [
        "from scipy.optimize import minimize\n",
        "\n",
        "\n",
        "expectation = get_expectation(G, p=1)\n",
        "\n",
        "res = minimize(expectation, \n",
        "                      [1.0, 1.0], \n",
        "                      method='COBYLA')\n",
        "res"
      ]
    },
    {
      "cell_type": "markdown",
      "metadata": {
        "id": "TLH16U88Nn3E"
      },
      "source": [
        "Note that different choices of classical optimizers are present in qiskit. We choose COBYLA as our classical optimization algorithm here."
      ]
    },
    {
      "cell_type": "markdown",
      "metadata": {
        "id": "etHcD4ewNn3E"
      },
      "source": [
        "### Analyzing the result"
      ]
    },
    {
      "cell_type": "code",
      "execution_count": 12,
      "metadata": {
        "tags": [],
        "colab": {
          "base_uri": "https://localhost:8080/",
          "height": 348
        },
        "id": "NnFxcZ5hNn3E",
        "outputId": "7d3d9d36-c51b-4e84-80a2-9dc798acd61e"
      },
      "outputs": [
        {
          "output_type": "execute_result",
          "data": {
            "text/plain": [
              "<Figure size 504x360 with 1 Axes>"
            ],
            "image/png": "[encoded data removed]"
          },
          "metadata": {},
          "execution_count": 12
        }
      ],
      "source": [
        "from qiskit.visualization import plot_histogram\n",
        "\n",
        "backend = Aer.get_backend('aer_simulator')\n",
        "backend.shots = 512\n",
        "\n",
        "qc_res = create_qaoa_circ(G, res.x)\n",
        "\n",
        "counts = backend.run(qc_res, seed_simulator=10).result().get_counts()\n",
        "\n",
        "plot_histogram(counts)"
      ]
    },
    {
      "cell_type": "markdown",
      "metadata": {
        "id": "XF_SM0rqNn3F"
      },
      "source": [
        "Как мы заметили, битовые строки «0101» и «1010» имеют наибольшую вероятность и действительно являются назначениями графа (с которого мы начали), который дает 4 ребра между двумя разделами."
      ]
    }
  ],
  "metadata": {
    "kernelspec": {
      "display_name": "Python 3 (ipykernel)",
      "language": "python",
      "name": "python3"
    },
    "language_info": {
      "codemirror_mode": {
        "name": "ipython",
        "version": 3
      },
      "file_extension": ".py",
      "mimetype": "text/x-python",
      "name": "python",
      "nbconvert_exporter": "python",
      "pygments_lexer": "ipython3",
      "version": "3.9.6"
    },
    "colab": {
      "name": "QAOA.ipynb",
      "provenance": [],
      "collapsed_sections": []
    }
  },
  "nbformat": 4,
  "nbformat_minor": 0
}